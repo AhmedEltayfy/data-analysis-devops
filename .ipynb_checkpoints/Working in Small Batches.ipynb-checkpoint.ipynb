{
 "cells": [
  {
   "cell_type": "code",
   "execution_count": null,
   "id": "7cb33760-5020-42a1-bfdb-73892d7c6586",
   "metadata": {},
   "outputs": [],
   "source": [
    "import pandas as pd\n",
    "from pathlib import Path\n",
    "import os\n",
    "\n",
    "# تحديد المسار الصحيح إلى مجلد البيانات\n",
    "data_dir = Path(r\"C:\\Users\\m\\Desktop\\03 Working in Small Batches\\dat\")\n",
    "\n",
    "# قائمة بملفات البيانات\n",
    "file_paths = [data_dir / \"balance_sheet_jan.csv\", \n",
    "              data_dir / \"balance_sheet_feb.csv\", \n",
    "              data_dir / \"balance_sheet_mar.csv\"]\n",
    "\n",
    "# وظيفة 1: تحميل البيانات والتحقق من صحتها\n",
    "def load_and_validate(path):\n",
    "    try:\n",
    "        df = pd.read_csv(path)\n",
    "        assert \"Revenue\" in df.columns, \"❌ خطأ: العمود 'Revenue' غير موجود!\"\n",
    "        print(f\"✅ تم تحميل الملف بنجاح: {path}\")\n",
    "        return df\n",
    "    except Exception as e:\n",
    "        print(f\"❌ خطأ في الملف {path}: {e}\")\n",
    "        return None\n",
    "\n",
    "# وظيفة 2: تحليل الإيرادات\n",
    "def analyze(df):\n",
    "    revenue_mean = df[\"Revenue\"].mean()\n",
    "    print(f\"📊 متوسط الإيرادات: {revenue_mean:.2f}\")\n",
    "    return revenue_mean\n",
    "\n",
    "# وظيفة 3: إرسال النتيجة (محاكاة لنشر البيانات)\n",
    "def ship_output(result, file_id):\n",
    "    print(f\"📦 رفع نتيجة الملف '{file_id}' إلى النظام... ✅ [تم بنجاح]\")\n",
    "\n",
    "# تنفيذ العمليات على كل ملف (تدفق قطعة واحدة)\n",
    "for path in file_paths:\n",
    "    print(f\"\\n🚧 معالجة الملف: {path}\")\n",
    "    \n",
    "    df = load_and_validate(path)\n",
    "    if df is None:\n",
    "        continue\n",
    "\n",
    "    result = analyze(df)\n",
    "    ship_output(result, os.path.basename(path))"
   ]
  }
 ],
 "metadata": {
  "kernelspec": {
   "display_name": "Python [conda env:base] *",
   "language": "python",
   "name": "conda-base-py"
  },
  "language_info": {
   "codemirror_mode": {
    "name": "ipython",
    "version": 3
   },
   "file_extension": ".py",
   "mimetype": "text/x-python",
   "name": "python",
   "nbconvert_exporter": "python",
   "pygments_lexer": "ipython3",
   "version": "3.12.3"
  }
 },
 "nbformat": 4,
 "nbformat_minor": 5
}
